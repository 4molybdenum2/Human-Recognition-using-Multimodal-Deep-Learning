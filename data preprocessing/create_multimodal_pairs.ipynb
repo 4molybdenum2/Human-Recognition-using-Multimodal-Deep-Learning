{
  "nbformat": 4,
  "nbformat_minor": 0,
  "metadata": {
    "colab": {
      "name": "create_multimodal_pairs.ipynb",
      "provenance": []
    },
    "kernelspec": {
      "name": "python3",
      "display_name": "Python 3"
    }
  },
  "cells": [
    {
      "cell_type": "code",
      "metadata": {
        "id": "fp3xgHTsKiqv"
      },
      "source": [
        "#function to create pairs of data from same class\r\n",
        "\r\n",
        "def create_same_class_pairs(X,y,check,img_a,img_b,img_y,same_class_list,num):\r\n",
        "\r\n",
        "  i = 0\r\n",
        "  #num : number of pairs to be created\r\n",
        "  while(i<num):\r\n",
        "    \r\n",
        "    # perform pairing for same classes.\r\n",
        "    if check == 0 :\r\n",
        "      same_class = np.random.randint(N_CLASSES)\r\n",
        "      same_class_list.append(same_class)\r\n",
        "\r\n",
        "    if check == 1 :\r\n",
        "      same_class= same_class_list[i]\r\n",
        "    \r\n",
        "    enum_list=[k for k,j in enumerate(y) if j==same_class]\r\n",
        "    \r\n",
        "    if len(enum_list) >= 2:\r\n",
        "      index = random.sample( enum_list, 2) \r\n",
        "    x_random = X[index]\r\n",
        "    y_same = same_class\r\n",
        "\r\n",
        "    img_a.append(x_random[0]) # these are indexes in X_train\r\n",
        "    img_b.append(x_random[1])\r\n",
        "\r\n",
        "    #append the class number for same class pair\r\n",
        "    img_y.append(y_same) # this is the class\r\n",
        "\r\n",
        "    i = i+1\r\n",
        "\r\n",
        "  return img_a,img_b,img_y"
      ],
      "execution_count": null,
      "outputs": []
    },
    {
      "cell_type": "code",
      "metadata": {
        "id": "_K9cie-MLSaV"
      },
      "source": [
        "#function to create pairs of data from different class\r\n",
        "\r\n",
        "def create_diff_class_pairs(X,y,img_a,img_b,img_y,num):\r\n",
        "\r\n",
        "  i = 0\r\n",
        "  #num : number of pairs to be created\r\n",
        "  while(i<num):\r\n",
        "    # Repeat this as many times as many examples you want using a loop\r\n",
        "\r\n",
        "    # select random indices from the shape[0] of the X_train array\r\n",
        "    index = np.random.choice(X.shape[0], 2, replace=False)  \r\n",
        "\r\n",
        "    # make a random array by choosing subsets from X_train\r\n",
        "    x_random = X[index]\r\n",
        "    y_random = y[index]\r\n",
        "\r\n",
        "    # append the first image to img_a and second to img_b\r\n",
        "\r\n",
        "    # finally based on the similarity of the images based on their classes append either the class (if they are similar) or -1 if they are dissimilar\r\n",
        "    if(y_random[0] == y_random[1]):\r\n",
        "      pass\r\n",
        "    else:\r\n",
        "      img_a.append(x_random[0])\r\n",
        "      img_b.append(x_random[1])\r\n",
        "\r\n",
        "      #append -1 for different class pair\r\n",
        "      img_y.append(-1)\r\n",
        "\r\n",
        "      i=i+1\r\n",
        "    \r\n",
        "  return img_a,img_b,img_y"
      ],
      "execution_count": null,
      "outputs": []
    },
    {
      "cell_type": "code",
      "metadata": {
        "id": "3eo7XTsaLhl7"
      },
      "source": [
        "def create_data_pairs(X,y,check):\r\n",
        "\r\n",
        "  img_a = []\r\n",
        "  img_b = []  \r\n",
        "  img_y = []\r\n",
        "  \r\n",
        "  # our objective is to make half of the dataset with the same classes and half with different classes.\r\n",
        "\r\n",
        "  # same class pairs for both image and audio\r\n",
        "  img_a,img_b,img_y = create_same_class_pairs(X,y,check,img_a,img_b,img_y,same_class_list,4000)\r\n",
        "\r\n",
        "  # different classes for both image and audio\r\n",
        "  img_a,img_b,img_y = create_diff_class_pairs(X,y,img_a,img_b,img_y,2000)\r\n",
        "\r\n",
        "  #first same class pairs for image but different class pairs for audio \r\n",
        "  #then different class pairs for image but same class pairs for audio\r\n",
        "\r\n",
        "  if check==0 : #this block executed for image (check = 0)\r\n",
        "\r\n",
        "    img_a,img_b,img_y = create_same_class_pairs(X,y,check,img_a,img_b,img_y,same_class_list1,1000) \r\n",
        "    img_a,img_b,img_y = create_diff_class_pairs(X,y,img_a,img_b,img_y,1000)\r\n",
        "\r\n",
        "  else : #this block executed for audio (check = 1)\r\n",
        "\r\n",
        "    img_a,img_b,img_y = create_diff_class_pairs(X,y,img_a,img_b,img_y,1000)\r\n",
        "    img_a,img_b,img_y = create_same_class_pairs(X,y,check,img_a,img_b,img_y,same_class_list1,1000)\r\n",
        "\r\n",
        "  \r\n",
        "  return img_a,img_b,img_y"
      ],
      "execution_count": null,
      "outputs": []
    },
    {
      "cell_type": "code",
      "metadata": {
        "id": "4rEWq7EfMbH-"
      },
      "source": [
        "# create the final data to be fed into the siamese network for training\r\n",
        "\r\n",
        "def multimodal_data_generate(X_img , y_img , X_aud , y_aud):\r\n",
        "\r\n",
        "  img_a , img_b , img_y = create_data_pairs(X_img,y_img,0)\r\n",
        "  aud_a , aud_b , aud_y = create_data_pairs(X_aud,y_aud,1)\r\n",
        "\r\n",
        "  labels = []\r\n",
        "\r\n",
        "  for i in range(len(img_a)):\r\n",
        "    if(img_y[i]==-1 or aud_y[i] == -1):     # different class pair for both audio and image\r\n",
        "      labels.append(0)\r\n",
        "    elif(img_y[i]==aud_y[i]):     # same class pair for both audio and image\r\n",
        "      labels.append(1)\r\n",
        "    else:                     #same class pair for one and different class pair for another\r\n",
        "      labels.append(0)\r\n",
        "  \r\n",
        "  return img_a,aud_a,img_b,aud_b,labels   "
      ],
      "execution_count": null,
      "outputs": []
    },
    {
      "cell_type": "code",
      "metadata": {
        "id": "xoVJDWsDOZQZ"
      },
      "source": [
        "# create pairs from training data\r\n",
        "\r\n",
        "# to define the same list of classes\r\n",
        "same_class_list1 = []\r\n",
        "same_class_list2 = []\r\n",
        "img_a_train,aud_a_train,img_b_train,aud_b_train,labels_train  = multimodal_data_generate(X_train_img , y_train_img , X_train_aud , y_train_aud)"
      ],
      "execution_count": null,
      "outputs": []
    },
    {
      "cell_type": "code",
      "metadata": {
        "id": "1LnOIAlzPAEj"
      },
      "source": [
        "# create pairs from test data\r\n",
        "\r\n",
        "# to define the same list of classes\r\n",
        "same_class_list1 = []\r\n",
        "same_class_list2 = [] \r\n",
        "img_a_test,aud_a_test,img_b_test,aud_b_test,labels_test  = multimodal_data_generate(X_test_img , y_test_img , X_test_aud , y_test_aud)"
      ],
      "execution_count": null,
      "outputs": []
    }
  ]
}