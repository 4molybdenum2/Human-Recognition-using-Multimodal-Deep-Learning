{
  "nbformat": 4,
  "nbformat_minor": 0,
  "metadata": {
    "colab": {
      "name": "extract_data.ipynb",
      "provenance": []
    },
    "kernelspec": {
      "name": "python3",
      "display_name": "Python 3"
    }
  },
  "cells": [
    {
      "cell_type": "markdown",
      "metadata": {
        "id": "lKmn1peZDvVi"
      },
      "source": [
        "Extracting your image and audio (spectogram images) dataset..\r\n"
      ]
    },
    {
      "cell_type": "code",
      "metadata": {
        "id": "OfkPh0F7CUVM"
      },
      "source": [
        "# Declare constants \r\n",
        "IMAGE_HEIGHT = 128\r\n",
        "IMAGE_WIDTH = 128\r\n",
        "\r\n",
        "AUD_HEIGHT = 128\r\n",
        "AUD_WIDTH = 128\r\n",
        "\r\n",
        "BATCH_SIZE = 64\r\n",
        "N_CHANNELS = 3\r\n",
        "N_CLASSES = 20\r\n",
        "\r\n",
        "IMG_SHAPE = (IMAGE_HEIGHT,IMAGE_WIDTH,N_CHANNELS)\r\n",
        "AUD_SHAPE = (AUD_HEIGHT,AUD_WIDTH,N_CHANNELS)"
      ],
      "execution_count": null,
      "outputs": []
    },
    {
      "cell_type": "code",
      "metadata": {
        "id": "uAbUHeIKCEkq"
      },
      "source": [
        "#converts your entire dataset of images into a list containing pixel values of the images as well as the class that image belongs to.\r\n",
        "\r\n",
        "#tqdm shows your progress\r\n",
        "def create_data(data_dir,categories,data,categorical_index):\r\n",
        "    \r\n",
        "    for category in categories:\r\n",
        "        path = os.path.join(data_dir+category)\r\n",
        "        class_num = categories.index(category)\r\n",
        "        categorical_index.append([category,class_num])\r\n",
        "        \r\n",
        "        for img in tqdm(os.listdir(path)):\r\n",
        "            try:\r\n",
        "                img_array_bgr = cv2.imread(os.path.join(path,img))\r\n",
        "                img_array = cv2.cvtColor(img_array_bgr , cv2.COLOR_BGR2RGB)\r\n",
        "                new_array = cv2.resize(img_array , (IMAGE_HEIGHT,IMAGE_WIDTH))\r\n",
        "                data.append([new_array,class_num])\r\n",
        "            except Exception as e:\r\n",
        "                pass\r\n",
        "   \r\n",
        "    return data,categorical_index"
      ],
      "execution_count": null,
      "outputs": []
    },
    {
      "cell_type": "markdown",
      "metadata": {
        "id": "PBfXUglSDCbr"
      },
      "source": [
        "First creating image data.."
      ]
    },
    {
      "cell_type": "code",
      "metadata": {
        "id": "GD56R9kfC4dl"
      },
      "source": [
        "data_dir = #set path to the folder containing subfolders containing your images \r\n",
        "\r\n",
        "#list of subfolders which denote different classes of your dataset\r\n",
        "categories = os.listdir(data_dir)\r\n",
        "\r\n",
        "data_img = []\r\n",
        "categorical_index_img = [] #to keep track of which class is mapped to which index\r\n",
        "\r\n",
        "data_img,categorical_index_img = create_data(data_dir,categories,data_img,categorical_index_img)\r\n"
      ],
      "execution_count": null,
      "outputs": []
    },
    {
      "cell_type": "markdown",
      "metadata": {
        "id": "Sm1R4L8pDKsb"
      },
      "source": [
        "Now creating audio data.."
      ]
    },
    {
      "cell_type": "code",
      "metadata": {
        "id": "Q0dBQkeMDAri"
      },
      "source": [
        "data_dir = #set path to the folder containing subfolders containing the audio spectogram images\r\n",
        "\r\n",
        "#list of subfolders which denote different classes of your dataset\r\n",
        "categories = os.listdir(data_dir)\r\n",
        "\r\n",
        "data_aud = []\r\n",
        "categorical_index_aud = []\r\n",
        "\r\n",
        "data_aud,categorical_index_aud = create_data(data_dir,categories,data_aud,categorical_index_aud)"
      ],
      "execution_count": null,
      "outputs": []
    }
  ]
}