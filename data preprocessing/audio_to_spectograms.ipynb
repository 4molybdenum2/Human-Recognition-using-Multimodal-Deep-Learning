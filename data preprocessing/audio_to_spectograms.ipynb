{
  "nbformat": 4,
  "nbformat_minor": 0,
  "metadata": {
    "colab": {
      "name": "audio_to_spectograms.ipynb",
      "provenance": []
    },
    "kernelspec": {
      "name": "python3",
      "display_name": "Python 3"
    }
  },
  "cells": [
    {
      "cell_type": "code",
      "metadata": {
        "id": "7tIaLKfI-11o"
      },
      "source": [
        "# Utility function to get sound and frame rate info\r\n",
        "def get_wav_info(wav_file):\r\n",
        "    wav = wave.open(wav_file, 'r')\r\n",
        "    frames = wav.readframes(-1)\r\n",
        "    sound_info = pylab.frombuffer(frames, 'int16')\r\n",
        "    frame_rate = wav.getframerate()\r\n",
        "    wav.close()\r\n",
        "    return sound_info, frame_rate"
      ],
      "execution_count": null,
      "outputs": []
    },
    {
      "cell_type": "code",
      "metadata": {
        "id": "PBMnYguRB63Z"
      },
      "source": [
        "MAIN_INPUT_DIR = #set the main folder which contains different subfolders containing 'wav' audio files\r\n",
        "\r\n",
        "OUTPUT_DIR = #set the folder where you want to save the spectogram images"
      ],
      "execution_count": null,
      "outputs": []
    },
    {
      "cell_type": "code",
      "metadata": {
        "id": "Dt_LzIUB-_PG"
      },
      "source": [
        "#function to create spectogram images using pylab by extracting 'wav' audio files\r\n",
        "#from subfolders which denote classes and creating subfolders in similar pattern for \r\n",
        "#the spectogram images\r\n",
        "\r\n",
        "def audio_to_spectograms(): \r\n",
        "    for INPUT_DIR in os.listdir(MAIN_INPUT_DIR):\r\n",
        "        temp = MAIN_INPUT_DIR + '/' + INPUT_DIR\r\n",
        "        for filename in os.listdir(temp):\r\n",
        "            if \"wav\" in filename:\r\n",
        "                file_path = os.path.join(temp, filename)\r\n",
        "                file_stem = Path(file_path).stem\r\n",
        "                target_dir = str(x)\r\n",
        "                dist_dir = os.path.join(OUTPUT_DIR, target_dir)\r\n",
        "                file_dist_path = os.path.join(dist_dir, file_stem)\r\n",
        "                if not os.path.exists(file_dist_path + '.png'):\r\n",
        "                    if not os.path.exists(dist_dir):\r\n",
        "                        os.mkdir(dist_dir)\r\n",
        "                    file_stem = Path(file_path).stem\r\n",
        "                    sound_info, frame_rate = get_wav_info(file_path)\r\n",
        "                    pylab.specgram(sound_info, Fs=frame_rate)\r\n",
        "                    \r\n",
        "                    pylab.savefig(f'{file_dist_path}'+str(os.listdir(Main_INPUT_DIR).index(INPUT_DIR))+'.png')\r\n",
        "                    pylab.close()"
      ],
      "execution_count": null,
      "outputs": []
    },
    {
      "cell_type": "code",
      "metadata": {
        "id": "NPoCjTfXAXTC"
      },
      "source": [
        "audio_to_spectograms() "
      ],
      "execution_count": null,
      "outputs": []
    }
  ]
}