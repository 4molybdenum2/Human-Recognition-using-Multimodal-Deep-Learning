{
  "nbformat": 4,
  "nbformat_minor": 0,
  "metadata": {
    "colab": {
      "name": "save_and_load_data.ipynb",
      "provenance": []
    },
    "kernelspec": {
      "name": "python3",
      "display_name": "Python 3"
    }
  },
  "cells": [
    {
      "cell_type": "code",
      "metadata": {
        "id": "7e2upoDdHhdl"
      },
      "source": [
        "#saving and loading the data using pickle library\r\n",
        "\r\n",
        "import pickle\r\n",
        "\r\n",
        "op_path = # set the path to where you want to save your pickles"
      ],
      "execution_count": null,
      "outputs": []
    },
    {
      "cell_type": "code",
      "metadata": {
        "id": "xiV80RZBH_s5"
      },
      "source": [
        "#creating save and load pickle functions \r\n",
        "\r\n",
        "#var : the variable you want to save and name: the name of the pickle file you want to set\r\n",
        "def save_pickle(op_path,var,name):\r\n",
        "    pickle_out = open(op_path+name+'.pickle' , 'wb')\r\n",
        "    pickle.dump(var , pickle_out)\r\n",
        "    pickle_out.close()\r\n",
        "\r\n",
        "def load_pickle(op_path,name):\r\n",
        "    pickle_in = open(op_path+name+'.pickle' , 'rb')\r\n",
        "    var = pickle.load(pickle_in)\r\n",
        "    return var"
      ],
      "execution_count": null,
      "outputs": []
    },
    {
      "cell_type": "code",
      "metadata": {
        "id": "CjUdYnARIK9a"
      },
      "source": [
        "#code to save X's and y's\r\n",
        "\r\n",
        "save_pickle(op_path,X_img,'X_img')\r\n",
        "save_pickle(op_path,y_img,'y_img')\r\n",
        "save_pickle(op_path,X_aud,'X1_img')\r\n",
        "save_pickle(op_path,y_aud,'y1_img')"
      ],
      "execution_count": null,
      "outputs": []
    },
    {
      "cell_type": "code",
      "metadata": {
        "id": "uBp2t6sHIfBw"
      },
      "source": [
        "#code to load the pre-saved X's and y's\r\n",
        "\r\n",
        "X_img=load_pickle(op_path,'X_img')\r\n",
        "y_img=load_pickle(op_path,'y_img')\r\n",
        "X_aud=load_pickle(op_path,'X_aud')\r\n",
        "y_aud=load_pickle(op_path,'y_aud')"
      ],
      "execution_count": null,
      "outputs": []
    },
    {
      "cell_type": "code",
      "metadata": {
        "id": "iaKuYPMuI6dq"
      },
      "source": [
        "#code to save train and test image data\r\n",
        "\r\n",
        "save_pickle(op_path,X_train_img,'X_train_img')\r\n",
        "save_pickle(op_path,y_train_img,'y_train_img')\r\n",
        "save_pickle(op_path,X_test_img,'X_test_img')\r\n",
        "save_pickle(op_path,y_test_img,'y_test_img')"
      ],
      "execution_count": null,
      "outputs": []
    },
    {
      "cell_type": "code",
      "metadata": {
        "id": "9Ofz03HAI77t"
      },
      "source": [
        "#code to load train and test image data\r\n",
        "\r\n",
        "X_train=load_pickle(op_path,'X_train_img')\r\n",
        "y_train=load_pickle(op_path,'y_train_img')\r\n",
        "X_test=load_pickle(op_path,'X_test_img')\r\n",
        "y_test=load_pickle(op_path,'y_test_img')"
      ],
      "execution_count": null,
      "outputs": []
    },
    {
      "cell_type": "code",
      "metadata": {
        "id": "DN5EPD-KJAhi"
      },
      "source": [
        "#code to save train and test audio data\r\n",
        "\r\n",
        "save_pickle(op_path,X_train_aud,'X_train_aud')\r\n",
        "save_pickle(op_path,y_train_aud,'y_train')\r\n",
        "save_pickle(op_path,X_test_aud,'X_test_aud')\r\n",
        "save_pickle(op_path,y_test_aud,'y_test_aud')"
      ],
      "execution_count": null,
      "outputs": []
    },
    {
      "cell_type": "code",
      "metadata": {
        "id": "TWFqS2ilJBCO"
      },
      "source": [
        "#code to load train and test audio data\r\n",
        "\r\n",
        "X_train=load_pickle(op_path,'X_train_aud')\r\n",
        "y_train=load_pickle(op_path,'y_train_aud')\r\n",
        "X_test=load_pickle(op_path,'X_test_aud')\r\n",
        "y_test=load_pickle(op_path,'y_test_aud')"
      ],
      "execution_count": null,
      "outputs": []
    }
  ]
}